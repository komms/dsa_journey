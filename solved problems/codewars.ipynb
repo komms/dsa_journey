{
 "cells": [
  {
   "cell_type": "code",
   "execution_count": 29,
   "id": "f55b92ea",
   "metadata": {},
   "outputs": [
    {
     "data": {
      "text/plain": [
       "[10, -65]"
      ]
     },
     "execution_count": 29,
     "metadata": {},
     "output_type": "execute_result"
    }
   ],
   "source": [
    "# Count of positives / sum of negatives \n",
    "# Return an array, where the first element is the count of positives numbers and the second element is sum of negative numbers\n",
    "def count_positives_sum_negatives(arr):\n",
    "    arr1,arr2,arr3 = [],[],[]\n",
    "    total = 0\n",
    "    for i in arr:\n",
    "        if len(arr) == 0:\n",
    "            return arr\n",
    "        if i > 0:\n",
    "            arr1.append(i)\n",
    "            i+=1 # unnecessary as it does not make a difference because for loop handles the iteration process\n",
    "        if i < 0:\n",
    "            total = total+i\n",
    "            i+=1# unnecessary because for loop handles the iteration process\n",
    "    a = len(arr1)\n",
    "    b = total\n",
    "   \n",
    "    arr3.append(a)\n",
    "    arr3.append(b)\n",
    "\n",
    "    return arr3\n",
    "arr = [1,2,3,4,5,6,7,8,9,10,-11,-12,-13,-14,-15]\n",
    "count_positives_sum_negatives(arr)"
   ]
  },
  {
   "cell_type": "markdown",
   "id": "b1dc61d4",
   "metadata": {},
   "source": [
    "arr1,arr2,arr3 = [],[],[]\n",
    "print(len(arr1))"
   ]
  },
  {
   "cell_type": "code",
   "execution_count": 25,
   "id": "ae2830d1",
   "metadata": {},
   "outputs": [
    {
     "data": {
      "text/plain": [
       "[1, 2, 3, 4, 5, 6, 7, 8, 9, 10, -11, -23, -36, -50, -65]"
      ]
     },
     "execution_count": 25,
     "metadata": {},
     "output_type": "execute_result"
    }
   ],
   "source": [
    "# Tried another way to check possibilty\n",
    "def count_positives_sum_negatives(arr):\n",
    "    arr1,arr2,arr3 = [],[],[]\n",
    "    total = 0\n",
    "    for i in arr:\n",
    "        if len(arr) == 0:\n",
    "            return arr\n",
    "            break\n",
    "        if i > 0:\n",
    "            arr1.append(i)\n",
    "            i+=1\n",
    "            #print(arr1)\n",
    "            a = len(arr1) # this code should be out of the loop beacuse it gives wrong output as it iterates and calculates len each iteration and adds it to the arr3\n",
    "            #print(a)\n",
    "            arr3.append(a) # including this\n",
    "        if i < 0:\n",
    "            total = total+i\n",
    "            i+=1\n",
    "            #print(total)\n",
    "            arr3.append(total) # the same happens here which results in wrong output. \n",
    "    \n",
    "\n",
    "    return arr3\n",
    "arr = [1,2,3,4,5,6,7,8,9,10,-11,-12,-13,-14,-15]\n",
    "count_positives_sum_negatives(arr)"
   ]
  },
  {
   "cell_type": "code",
   "execution_count": 30,
   "id": "25dc56bf",
   "metadata": {},
   "outputs": [
    {
     "name": "stdout",
     "output_type": "stream",
     "text": [
      "[10, -65]\n"
     ]
    }
   ],
   "source": [
    "# The answer that chat gpt gave for the same above question\n",
    "def count_positives_sum_negatives(arr):\n",
    "    if not arr:  # Check if the array is empty or None\n",
    "        return []\n",
    "    \n",
    "    count_positives = 0\n",
    "    sum_negatives = 0\n",
    "    \n",
    "    for i in arr:\n",
    "        if i > 0:\n",
    "            count_positives += 1 # we used 1 because we have to add the count not the element value\n",
    "        elif i < 0:\n",
    "            sum_negatives += i\n",
    "            \n",
    "    return [count_positives, sum_negatives]\n",
    "\n",
    "# Example usage\n",
    "arr = [1, 2, 3, 4, 5, 6, 7, 8, 9, 10, -11, -12, -13, -14, -15]\n",
    "result = count_positives_sum_negatives(arr)\n",
    "print(result)  # Output should be [10, -65]\n"
   ]
  },
  {
   "cell_type": "code",
   "execution_count": 35,
   "id": "8af57682",
   "metadata": {},
   "outputs": [
    {
     "data": {
      "text/plain": [
       "36"
      ]
     },
     "execution_count": 35,
     "metadata": {},
     "output_type": "execute_result"
    }
   ],
   "source": [
    "def basic_op(operator, value1, value2):\n",
    "    #your code here\n",
    "    if operator == \"+\":\n",
    "        return value1+value2\n",
    "    elif operator == \"-\":\n",
    "        return value1-value2\n",
    "    elif operator == \"*\":\n",
    "        return value1*value2\n",
    "    elif operator==\"/\":\n",
    "        return value1/value2\n",
    "basic_op(\"+\",12,24)"
   ]
  },
  {
   "cell_type": "code",
   "execution_count": 49,
   "id": "9e630674",
   "metadata": {},
   "outputs": [
    {
     "name": "stdout",
     "output_type": "stream",
     "text": [
      "120\n"
     ]
    }
   ],
   "source": [
    "def multiply_elements(arr):\n",
    "    result = 1\n",
    "    for num in arr:\n",
    "        result *= num\n",
    "    return result\n",
    "\n",
    "# Example usage\n",
    "arr = [1, 2, 3, 4, 5]\n",
    "product = multiply_elements(arr)\n",
    "print(product)  # Output should be 120\n",
    "\n",
    "\n",
    "    \n"
   ]
  },
  {
   "cell_type": "code",
   "execution_count": 53,
   "id": "bd80cc31",
   "metadata": {},
   "outputs": [
    {
     "name": "stdout",
     "output_type": "stream",
     "text": [
      "[1, 4, 9]\n"
     ]
    }
   ],
   "source": [
    "def square_elements(arr):\n",
    "    return [x * x for x in arr]\n",
    "\n",
    "# Example usage\n",
    "initial_array = [1, 2, 3]\n",
    "result = square_elements(initial_array)\n",
    "print(result)  # Output should be [1, 4, 9]\n"
   ]
  },
  {
   "cell_type": "code",
   "execution_count": 52,
   "id": "44679e36",
   "metadata": {},
   "outputs": [
    {
     "name": "stdout",
     "output_type": "stream",
     "text": [
      "1\n"
     ]
    }
   ],
   "source": [
    "def square_elements(arr):\n",
    "    for x in arr:\n",
    "        x*x\n",
    "        return x\n",
    "arr = [1,2,3]\n",
    "result = square_elements(arr)\n",
    "print(result)"
   ]
  },
  {
   "cell_type": "code",
   "execution_count": 54,
   "id": "f006ad30",
   "metadata": {},
   "outputs": [
    {
     "name": "stdout",
     "output_type": "stream",
     "text": [
      "[1, 4, 9]\n"
     ]
    }
   ],
   "source": [
    "def square_elements(arr):\n",
    "    result = []  # Create an empty list to store the results\n",
    "    for x in arr:\n",
    "        result.append(x * x)  # Append the square of x to the result list\n",
    "    return result  # Return the result list after the loop\n",
    "\n",
    "# Example usage\n",
    "arr = [1, 2, 3]\n",
    "result = square_elements(arr)\n",
    "print(result)  # Output should be [1, 4, 9]\n"
   ]
  },
  {
   "cell_type": "code",
   "execution_count": 1,
   "id": "e747458f",
   "metadata": {},
   "outputs": [
    {
     "ename": "TypeError",
     "evalue": "'str' object does not support item assignment",
     "output_type": "error",
     "traceback": [
      "\u001b[0;31m---------------------------------------------------------------------------\u001b[0m",
      "\u001b[0;31mTypeError\u001b[0m                                 Traceback (most recent call last)",
      "Cell \u001b[0;32mIn[1], line 4\u001b[0m\n\u001b[1;32m      1\u001b[0m \u001b[38;5;66;03m#DNA to RNA\u001b[39;00m\n\u001b[1;32m      2\u001b[0m \u001b[38;5;66;03m#def dna_to_rna(dna):\u001b[39;00m\n\u001b[1;32m      3\u001b[0m dna \u001b[38;5;241m=\u001b[39m \u001b[38;5;124m\"\u001b[39m\u001b[38;5;124mGCAU\u001b[39m\u001b[38;5;124m\"\u001b[39m\n\u001b[0;32m----> 4\u001b[0m dna[\u001b[38;5;241m3\u001b[39m] \u001b[38;5;241m=\u001b[39m \u001b[38;5;124m\"\u001b[39m\u001b[38;5;124mT\u001b[39m\u001b[38;5;124m\"\u001b[39m\n",
      "\u001b[0;31mTypeError\u001b[0m: 'str' object does not support item assignment"
     ]
    }
   ],
   "source": [
    "#DNA to RNA\n",
    "#def dna_to_rna(dna):\n",
    "dna = \"GCAU\"\n",
    "dna[3] = \"T\""
   ]
  },
  {
   "cell_type": "code",
   "execution_count": 3,
   "id": "e57617f1",
   "metadata": {},
   "outputs": [
    {
     "name": "stdout",
     "output_type": "stream",
     "text": [
      "GCAU\n"
     ]
    }
   ],
   "source": [
    "def dna_to_rna(dna):\n",
    "    # Replace all occurrences of 'T' with 'U'\n",
    "    return dna.replace('T', 'U')\n",
    "\n",
    "# Example usage\n",
    "dna = \"GCAT\"\n",
    "result = dna_to_rna(dna)\n",
    "print(result)  # Output should be \"GCAU\"\n"
   ]
  },
  {
   "cell_type": "code",
   "execution_count": 5,
   "id": "2de145fe",
   "metadata": {},
   "outputs": [],
   "source": [
    "def dna_to_rna(dna):\n",
    "    rna = \"\"\n",
    "    for i in dna:\n",
    "        if i == \"T\":\n",
    "            rna+=\"U\"\n",
    "        else:\n",
    "            rna+= i\n",
    "    return rna\n",
    "\n"
   ]
  },
  {
   "cell_type": "code",
   "execution_count": 12,
   "id": "ed9cd33e",
   "metadata": {},
   "outputs": [
    {
     "data": {
      "text/plain": [
       "3.0"
      ]
     },
     "execution_count": 12,
     "metadata": {},
     "output_type": "execute_result"
    }
   ],
   "source": [
    "def find_average(numbers):\n",
    "    sum = 0\n",
    "    if  len(numbers)== 0:\n",
    "        return 0\n",
    "    else:\n",
    "        for i in numbers:\n",
    "            sum += i\n",
    "            avg = sum/2\n",
    "    return avg\n",
    "numbers = [1,2,3]\n",
    "find_average(numbers)"
   ]
  },
  {
   "cell_type": "code",
   "execution_count": 17,
   "id": "94c13a46",
   "metadata": {},
   "outputs": [
    {
     "name": "stdout",
     "output_type": "stream",
     "text": [
      "14\n"
     ]
    }
   ],
   "source": [
    "def square_sum(numbers):\n",
    "    sum = 0\n",
    "    for i in numbers:\n",
    "        sum += i ** 2\n",
    "    return sum  # Move the return statement outside the loop\n",
    "\n",
    "# Example usage\n",
    "numbers = [1, 2, 3]\n",
    "result = square_sum(numbers)\n",
    "print(result)  # Output should be 14\n"
   ]
  },
  {
   "cell_type": "code",
   "execution_count": 23,
   "id": "49fffe56",
   "metadata": {},
   "outputs": [
    {
     "data": {
      "text/plain": [
       "5"
      ]
     },
     "execution_count": 23,
     "metadata": {},
     "output_type": "execute_result"
    }
   ],
   "source": [
    "def sum_array(a):\n",
    "    sum = 0\n",
    "    if len(a)==0:\n",
    "        return 0\n",
    "    else:\n",
    "        for num in a:\n",
    "            sum+= num\n",
    "    return sum\n",
    "sum_array(a=[1,2,2])"
   ]
  },
  {
   "cell_type": "code",
   "execution_count": 6,
   "id": "1b999e44",
   "metadata": {},
   "outputs": [
    {
     "name": "stdout",
     "output_type": "stream",
     "text": [
      "['123']\n"
     ]
    }
   ],
   "source": [
    "def digitize(n):\n",
    "    l = str(n).split(\",\")\n",
    "    print(l)\n",
    "   \n",
    "    \n",
    "digitize(n = 123)\n"
   ]
  },
  {
   "cell_type": "code",
   "execution_count": 19,
   "id": "eecf65a9",
   "metadata": {},
   "outputs": [
    {
     "name": "stdout",
     "output_type": "stream",
     "text": [
      "['1', '2', '3']\n",
      "['3', '2', '1']\n"
     ]
    }
   ],
   "source": [
    "n = 123\n",
    "a = str(n)\n",
    "b = list(a)\n",
    "print(b)\n",
    "c = b[::-1]\n",
    "print(c)"
   ]
  },
  {
   "cell_type": "code",
   "execution_count": 21,
   "id": "5b15cc53",
   "metadata": {},
   "outputs": [
    {
     "data": {
      "text/plain": [
       "['3', '2', '1']"
      ]
     },
     "execution_count": 21,
     "metadata": {},
     "output_type": "execute_result"
    }
   ],
   "source": [
    "def digitize(n):\n",
    "    a = str(n)\n",
    "    b = list(a)\n",
    "    c = b[::-1]\n",
    "    return c\n",
    "digitize(n=123)"
   ]
  },
  {
   "cell_type": "code",
   "execution_count": 43,
   "id": "fac1d71c",
   "metadata": {},
   "outputs": [
    {
     "name": "stdout",
     "output_type": "stream",
     "text": [
      "10\n",
      "[343445353, 3453445, 3453545353453]\n",
      "3453445\n",
      "[343445353, 3453545353453]\n",
      "3453455\n"
     ]
    }
   ],
   "source": [
    "a = [10, 343445353, 3453445, 3453545353453]\n",
    "b = min(a)\n",
    "print(b)\n",
    "a.remove(b)\n",
    "print(a)\n",
    "c = min(a)\n",
    "print(c)\n",
    "a.remove(c)\n",
    "print(a)\n",
    "sum = b + c\n",
    "print(sum)"
   ]
  },
  {
   "cell_type": "code",
   "execution_count": 44,
   "id": "204dda13",
   "metadata": {},
   "outputs": [],
   "source": [
    "# shortened code of the above\n",
    "def sum_two_smallest_numbers(numbers):\n",
    "    b = min(numbers)\n",
    "    numbers.remove(b)\n",
    "    c = min(numbers)\n",
    "    sum = b + c\n",
    "    return sum"
   ]
  },
  {
   "cell_type": "code",
   "execution_count": 50,
   "id": "0792687b",
   "metadata": {},
   "outputs": [
    {
     "name": "stdout",
     "output_type": "stream",
     "text": [
      "<class 'list'>\n",
      "[1, 2, 3]\n",
      "<class 'str'>\n"
     ]
    }
   ],
   "source": [
    "num = [1,2,3]\n",
    "print(type(num))\n",
    "b = str(num)\n",
    "print(b)\n",
    "print(type(b))\n"
   ]
  },
  {
   "cell_type": "code",
   "execution_count": 74,
   "id": "560cf549",
   "metadata": {},
   "outputs": [
    {
     "data": {
      "text/plain": [
       "False"
      ]
     },
     "execution_count": 74,
     "metadata": {},
     "output_type": "execute_result"
    }
   ],
   "source": [
    "def check(seq, elem):\n",
    "    a = str(seq)\n",
    "    b = str(elem)\n",
    "    for i in a:\n",
    "        if i == b:\n",
    "            return True\n",
    "            break\n",
    "    return False\n",
    "       \n",
    "        \n",
    "check(seq=[\"This\",2,3],elem =\"This\")"
   ]
  },
  {
   "cell_type": "code",
   "execution_count": 76,
   "id": "1fd8efd1",
   "metadata": {},
   "outputs": [
    {
     "ename": "AttributeError",
     "evalue": "'list' object has no attribute 'strip'",
     "output_type": "error",
     "traceback": [
      "\u001b[0;31m---------------------------------------------------------------------------\u001b[0m",
      "\u001b[0;31mAttributeError\u001b[0m                            Traceback (most recent call last)",
      "Cell \u001b[0;32mIn[76], line 2\u001b[0m\n\u001b[1;32m      1\u001b[0m a \u001b[38;5;241m=\u001b[39m [\u001b[38;5;124m'\u001b[39m\u001b[38;5;124mhello\u001b[39m\u001b[38;5;124m'\u001b[39m, \u001b[38;5;124m'\u001b[39m\u001b[38;5;124mworld\u001b[39m\u001b[38;5;124m'\u001b[39m, \u001b[38;5;124m'\u001b[39m\u001b[38;5;124mthis\u001b[39m\u001b[38;5;124m'\u001b[39m, \u001b[38;5;124m'\u001b[39m\u001b[38;5;124mis\u001b[39m\u001b[38;5;124m'\u001b[39m, \u001b[38;5;124m'\u001b[39m\u001b[38;5;124mgreat\u001b[39m\u001b[38;5;124m'\u001b[39m]\n\u001b[0;32m----> 2\u001b[0m b \u001b[38;5;241m=\u001b[39m a\u001b[38;5;241m.\u001b[39mstrip(\u001b[38;5;124m\"\u001b[39m\u001b[38;5;124m,\u001b[39m\u001b[38;5;124m\"\u001b[39m)\n\u001b[1;32m      3\u001b[0m \u001b[38;5;28mprint\u001b[39m(b)\n",
      "\u001b[0;31mAttributeError\u001b[0m: 'list' object has no attribute 'strip'"
     ]
    }
   ],
   "source": [
    "a = ['hello', 'world', 'this', 'is', 'great']\n",
    "b = a.strip(\",\")\n",
    "print(b)"
   ]
  },
  {
   "cell_type": "code",
   "execution_count": 82,
   "id": "66f89229",
   "metadata": {},
   "outputs": [
    {
     "name": "stdout",
     "output_type": "stream",
     "text": [
      "{'d'}\n",
      "{'d', 'i'}\n",
      "{'d', 's', 'i'}\n"
     ]
    },
    {
     "data": {
      "text/plain": [
       "False"
      ]
     },
     "execution_count": 82,
     "metadata": {},
     "output_type": "execute_result"
    }
   ],
   "source": [
    "def is_isogram(string):\n",
    "    #your code here\n",
    "    lower_string = string.lower()\n",
    "    seen = set()\n",
    "    print\n",
    "    for char in lower_string:\n",
    "        if char in seen:\n",
    "            return False\n",
    "        seen.add(char)\n",
    "        print(seen)\n",
    "    return True\n",
    "is_isogram(\"Disi\")"
   ]
  },
  {
   "cell_type": "code",
   "execution_count": 79,
   "id": "e8e1b446",
   "metadata": {},
   "outputs": [
    {
     "name": "stdout",
     "output_type": "stream",
     "text": [
      "<class 'set'>\n",
      "set()\n"
     ]
    }
   ],
   "source": [
    "seen = set()\n",
    "print(type(seen))\n",
    "print(seen)"
   ]
  },
  {
   "cell_type": "code",
   "execution_count": null,
   "id": "e80b6a02",
   "metadata": {},
   "outputs": [],
   "source": []
  }
 ],
 "metadata": {
  "kernelspec": {
   "display_name": "Python 3 (ipykernel)",
   "language": "python",
   "name": "python3"
  },
  "language_info": {
   "codemirror_mode": {
    "name": "ipython",
    "version": 3
   },
   "file_extension": ".py",
   "mimetype": "text/x-python",
   "name": "python",
   "nbconvert_exporter": "python",
   "pygments_lexer": "ipython3",
   "version": "3.11.5"
  }
 },
 "nbformat": 4,
 "nbformat_minor": 5
}
